{
 "cells": [
  {
   "cell_type": "code",
   "execution_count": 1,
   "metadata": {},
   "outputs": [],
   "source": [
    "import sqlite3"
   ]
  },
  {
   "cell_type": "code",
   "execution_count": 2,
   "metadata": {},
   "outputs": [
    {
     "data": {
      "text/plain": [
       "<sqlite3.Connection at 0x1fd61c71e40>"
      ]
     },
     "execution_count": 2,
     "metadata": {},
     "output_type": "execute_result"
    }
   ],
   "source": [
    "# Connect database\n",
    "connection = sqlite3.connect('example.db')\n",
    "connection"
   ]
  },
  {
   "cell_type": "code",
   "execution_count": 3,
   "metadata": {},
   "outputs": [],
   "source": [
    "cursor = connection.cursor()"
   ]
  },
  {
   "cell_type": "code",
   "execution_count": 4,
   "metadata": {},
   "outputs": [],
   "source": [
    "# Create a table\n",
    "cursor.execute('''\n",
    "CREATE TABLE IF NOT EXISTS employees(\n",
    "    id INTEGER PRIMARY KEY,\n",
    "    name TEXT NOT NULL,\n",
    "    age INTEGER,\n",
    "    department TEXT\n",
    "    )\n",
    "''')\n",
    "\n",
    "# Commit changes\n",
    "connection.commit()"
   ]
  },
  {
   "cell_type": "code",
   "execution_count": 6,
   "metadata": {},
   "outputs": [
    {
     "data": {
      "text/plain": [
       "<sqlite3.Cursor at 0x1fd61df3440>"
      ]
     },
     "execution_count": 6,
     "metadata": {},
     "output_type": "execute_result"
    }
   ],
   "source": [
    "cursor.execute('''\n",
    "SELECT * FROM employees\n",
    "''')"
   ]
  },
  {
   "cell_type": "code",
   "execution_count": 7,
   "metadata": {},
   "outputs": [
    {
     "data": {
      "text/plain": [
       "<sqlite3.Cursor at 0x1fd61df3440>"
      ]
     },
     "execution_count": 7,
     "metadata": {},
     "output_type": "execute_result"
    }
   ],
   "source": [
    "cursor.execute('''\n",
    "INSERT INTO employees (name, age, department)\n",
    "VALUES ('Saidul', 25, 'Software Engineering')\n",
    "''')"
   ]
  },
  {
   "cell_type": "code",
   "execution_count": 8,
   "metadata": {},
   "outputs": [
    {
     "data": {
      "text/plain": [
       "<sqlite3.Cursor at 0x1fd61df3440>"
      ]
     },
     "execution_count": 8,
     "metadata": {},
     "output_type": "execute_result"
    }
   ],
   "source": [
    "cursor.execute('''\n",
    "INSERT INTO employees (name, age, department)\n",
    "VALUES ('Rezaul', 23, 'AI')\n",
    "''')"
   ]
  },
  {
   "cell_type": "code",
   "execution_count": 9,
   "metadata": {},
   "outputs": [],
   "source": [
    "connection.commit()"
   ]
  },
  {
   "cell_type": "code",
   "execution_count": 11,
   "metadata": {},
   "outputs": [
    {
     "name": "stdout",
     "output_type": "stream",
     "text": [
      "(1, 'Saidul', 25, 'Software Engineering')\n",
      "(2, 'Rezaul', 23, 'AI')\n"
     ]
    }
   ],
   "source": [
    "# Query data\n",
    "cursor.execute('SELECT * from employees')\n",
    "rows = cursor.fetchall()\n",
    "for row in rows:\n",
    "    print(row)"
   ]
  },
  {
   "cell_type": "code",
   "execution_count": 12,
   "metadata": {},
   "outputs": [],
   "source": [
    "connection.close()"
   ]
  },
  {
   "cell_type": "code",
   "execution_count": null,
   "metadata": {},
   "outputs": [],
   "source": [
    "import logging\n",
    "\n",
    "logging.basicConfig(level=logging.DEBUG)\n",
    "\n",
    "logging"
   ]
  },
  {
   "cell_type": "code",
   "execution_count": 7,
   "metadata": {},
   "outputs": [
    {
     "name": "stdout",
     "output_type": "stream",
     "text": [
      "Number: 0\n",
      "Character: a\n",
      "Number: 1\n",
      "Character: b\n",
      "Number: 2\n",
      "Character: c\n",
      "Number: 3\n",
      "Character: d\n",
      "Number: 4\n",
      "Character: e\n",
      "5.012761116027832\n"
     ]
    }
   ],
   "source": [
    "import threading\n",
    "import time\n",
    "\n",
    "def print_nums():\n",
    "    for num in range(5):\n",
    "        time.sleep(1)\n",
    "        print(f\"Number: {num}\")\n",
    "\n",
    "def print_chars():\n",
    "    for char in \"abcde\":\n",
    "        time.sleep(1)\n",
    "        print(f\"Character: {char}\")\n",
    "\n",
    "t1 = threading.Thread(target=print_nums)\n",
    "t2 = threading.Thread(target=print_chars)\n",
    "\n",
    "starting_time=time.time()\n",
    "# print_nums()\n",
    "# print_chars()\n",
    "\n",
    "t1.start()\n",
    "t2.start()\n",
    "\n",
    "t1.join()\n",
    "t2.join()\n",
    "\n",
    "ending_time=time.time()\n",
    "total_time_taken=ending_time-starting_time\n",
    "print(total_time_taken)\n",
    "\n",
    "\n",
    "\n",
    "\n",
    "\n",
    "\n"
   ]
  },
  {
   "cell_type": "code",
   "execution_count": 12,
   "metadata": {},
   "outputs": [
    {
     "name": "stdout",
     "output_type": "stream",
     "text": [
      "Number: 1\n",
      "Number: 2\n",
      "Number: 3\n",
      "Number: 4\n",
      "Number: 5\n",
      "Number: 1\n",
      "Number: 2Number: 4\n",
      "\n",
      "Number: 5\n",
      "Number: 6\n",
      "Number: 3\n",
      "Number: 4\n",
      "Number: 6\n",
      "Number: 8\n",
      "Number: 5\n",
      "Number: 9Number: 4\n",
      "\n",
      "Number: 1\n",
      "Number: 1Number: 2\n",
      "\n",
      "Number: 5\n",
      "Number: 4Number: 1\n",
      "\n",
      "Number: 2\n",
      "Number: 4Number: 5\n",
      "\n",
      "Number: 1\n",
      "Number: 4Number: 2\n",
      "\n",
      "Number: 1\n",
      "Number: 2\n",
      "Number: 54\n",
      "Number: 1\n",
      "Number: 5Number: 2\n",
      "\n",
      "None\n",
      "None\n",
      "None\n",
      "None\n",
      "None\n",
      "None\n",
      "None\n",
      "None\n",
      "None\n",
      "None\n",
      "None\n",
      "None\n",
      "None\n",
      "None\n",
      "None\n",
      "None\n",
      "None\n",
      "None\n",
      "None\n",
      "None\n",
      "None\n",
      "None\n",
      "None\n",
      "None\n",
      "None\n",
      "None\n",
      "None\n",
      "None\n",
      "None\n",
      "None\n",
      "None\n",
      "None\n",
      "None\n",
      "None\n",
      "None\n"
     ]
    }
   ],
   "source": [
    "from concurrent.futures import ThreadPoolExecutor\n",
    "import time\n",
    "\n",
    "def print_nums(nums):\n",
    "        time.sleep(1)\n",
    "        print(f\"Number: {nums}\")\n",
    "\n",
    "if __name__==\"__main__\":\n",
    "    numbers=[1,2,3,4,5,1,2,4,5,6,3,4,8,5,6,9,4,1,1,2,5,4,1,2,5,4,1,2,4,1,2,54,1,5,2]\n",
    "\n",
    "    with ThreadPoolExecutor(max_workers=3) as executor:\n",
    "        results=executor.map(print_nums, numbers)\n",
    "\n",
    "    for result in results:\n",
    "        print(result)\n"
   ]
  },
  {
   "cell_type": "code",
   "execution_count": null,
   "metadata": {},
   "outputs": [],
   "source": []
  }
 ],
 "metadata": {
  "kernelspec": {
   "display_name": ".venv",
   "language": "python",
   "name": "python3"
  },
  "language_info": {
   "codemirror_mode": {
    "name": "ipython",
    "version": 3
   },
   "file_extension": ".py",
   "mimetype": "text/x-python",
   "name": "python",
   "nbconvert_exporter": "python",
   "pygments_lexer": "ipython3",
   "version": "3.12.2"
  }
 },
 "nbformat": 4,
 "nbformat_minor": 2
}
